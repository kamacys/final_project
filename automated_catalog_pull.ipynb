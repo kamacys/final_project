{
 "cells": [
  {
   "cell_type": "code",
   "execution_count": 1,
   "id": "72d69a55",
   "metadata": {},
   "outputs": [],
   "source": [
    "from selenium import webdriver\n",
    "from selenium.webdriver.common.by import By\n",
    "\n"
   ]
  },
  {
   "cell_type": "code",
   "execution_count": 2,
   "id": "7343b90c",
   "metadata": {},
   "outputs": [],
   "source": [
    "driver = webdriver.Firefox()\n",
    "school_url = \"https://www.lhssau30.org/\"\n",
    "driver.get(school_url)"
   ]
  },
  {
   "cell_type": "code",
   "execution_count": 3,
   "id": "132a77fb",
   "metadata": {},
   "outputs": [],
   "source": [
    "pos = driver.find_elements(By.XPATH, \"//a[contains(text(), 'Program of')]\")\n",
    "for p in pos:\n",
    "    print(p.get_attribute('text'))\n",
    "    print(p.get_attribute('href'))\n"
   ]
  },
  {
   "cell_type": "code",
   "execution_count": 4,
   "id": "633e242e",
   "metadata": {},
   "outputs": [],
   "source": [
    "driver.quit()"
   ]
  },
  {
   "cell_type": "code",
   "execution_count": null,
   "id": "2219b109",
   "metadata": {},
   "outputs": [],
   "source": []
  }
 ],
 "metadata": {
  "kernelspec": {
   "display_name": "Python 3 (ipykernel)",
   "language": "python",
   "name": "python3"
  },
  "language_info": {
   "codemirror_mode": {
    "name": "ipython",
    "version": 3
   },
   "file_extension": ".py",
   "mimetype": "text/x-python",
   "name": "python",
   "nbconvert_exporter": "python",
   "pygments_lexer": "ipython3",
   "version": "3.10.9"
  }
 },
 "nbformat": 4,
 "nbformat_minor": 5
}
