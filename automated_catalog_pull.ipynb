{
 "cells": [
  {
   "cell_type": "code",
   "execution_count": 10,
   "id": "72d69a55",
   "metadata": {},
   "outputs": [],
   "source": [
    "from selenium import webdriver\n",
    "from selenium.webdriver.common.by import By\n",
    "import pandas as pd\n",
    "import os\n"
   ]
  },
  {
   "cell_type": "code",
   "execution_count": 11,
   "id": "1595e622",
   "metadata": {},
   "outputs": [],
   "source": [
    "csv_file_name = \"Resources/school_url.csv\""
   ]
  },
  {
   "cell_type": "code",
   "execution_count": 13,
   "id": "e6f9f922",
   "metadata": {},
   "outputs": [
    {
     "data": {
      "text/html": [
       "<div>\n",
       "<style scoped>\n",
       "    .dataframe tbody tr th:only-of-type {\n",
       "        vertical-align: middle;\n",
       "    }\n",
       "\n",
       "    .dataframe tbody tr th {\n",
       "        vertical-align: top;\n",
       "    }\n",
       "\n",
       "    .dataframe thead th {\n",
       "        text-align: right;\n",
       "    }\n",
       "</style>\n",
       "<table border=\"1\" class=\"dataframe\">\n",
       "  <thead>\n",
       "    <tr style=\"text-align: right;\">\n",
       "      <th></th>\n",
       "      <th>school_name</th>\n",
       "      <th>web_address</th>\n",
       "    </tr>\n",
       "  </thead>\n",
       "  <tbody>\n",
       "    <tr>\n",
       "      <th>0</th>\n",
       "      <td>ACADEMY FOR SCIENCE AND DESIGN CHARTER (H)</td>\n",
       "      <td>https://www.asdnh.org/</td>\n",
       "    </tr>\n",
       "    <tr>\n",
       "      <th>1</th>\n",
       "      <td>ALVIRNE HIGH SCHOOL</td>\n",
       "      <td>https://www.sau81.org/ahs/schoolcounseling/cou...</td>\n",
       "    </tr>\n",
       "    <tr>\n",
       "      <th>2</th>\n",
       "      <td>BEDFORD HIGH SCHOOL</td>\n",
       "      <td>https://sites.google.com/bedfordnhk12.net/bhsb...</td>\n",
       "    </tr>\n",
       "    <tr>\n",
       "      <th>3</th>\n",
       "      <td>BELMONT HIGH SCHOOL</td>\n",
       "      <td>https://bhs.sau80.org/</td>\n",
       "    </tr>\n",
       "    <tr>\n",
       "      <th>4</th>\n",
       "      <td>BERLIN SENIOR HIGH SCHOOL</td>\n",
       "      <td>https://www.sau3.org/?openSearch=true</td>\n",
       "    </tr>\n",
       "  </tbody>\n",
       "</table>\n",
       "</div>"
      ],
      "text/plain": [
       "                                  school_name  \\\n",
       "0  ACADEMY FOR SCIENCE AND DESIGN CHARTER (H)   \n",
       "1                         ALVIRNE HIGH SCHOOL   \n",
       "2                         BEDFORD HIGH SCHOOL   \n",
       "3                         BELMONT HIGH SCHOOL   \n",
       "4                   BERLIN SENIOR HIGH SCHOOL   \n",
       "\n",
       "                                         web_address  \n",
       "0                             https://www.asdnh.org/  \n",
       "1  https://www.sau81.org/ahs/schoolcounseling/cou...  \n",
       "2  https://sites.google.com/bedfordnhk12.net/bhsb...  \n",
       "3                             https://bhs.sau80.org/  \n",
       "4              https://www.sau3.org/?openSearch=true  "
      ]
     },
     "execution_count": 13,
     "metadata": {},
     "output_type": "execute_result"
    }
   ],
   "source": [
    "csv_df = pd.read_csv(csv_file_name)\n",
    "csv_df.head()"
   ]
  },
  {
   "cell_type": "code",
   "execution_count": 5,
   "id": "eb9a6c02",
   "metadata": {},
   "outputs": [],
   "source": [
    "driver = webdriver.Firefox()\n",
    "all_rows = []"
   ]
  },
  {
   "cell_type": "code",
   "execution_count": 6,
   "id": "fd6739ca",
   "metadata": {},
   "outputs": [],
   "source": [
    "for index, row in csv_df.iterrows():\n",
    "    school_name = row['school_name']\n",
    "    web_address = row['web_address']\n",
    "    driver.get(web_address)\n",
    "    data = {} \n",
    "    pos = driver.find_elements(By.XPATH, \"//a[contains(text(), 'Program of')]\")\n",
    "    all_rows.append(school_name)\n",
    "    for p in pos:\n",
    "        all_rows.append(p.get_attribute('href'))\n",
    "       \n",
    "        \n",
    "final_df = pd.DataFrame(all_rows)\n",
    "    \n",
    "    "
   ]
  },
  {
   "cell_type": "code",
   "execution_count": 7,
   "id": "0a2a00b4",
   "metadata": {},
   "outputs": [],
   "source": [
    "fn = \"nh_catalogs.xlsx\"\n",
    "final_df.to_excel(fn, engine='openpyxl') "
   ]
  },
  {
   "cell_type": "code",
   "execution_count": 8,
   "id": "633e242e",
   "metadata": {},
   "outputs": [],
   "source": [
    "driver.quit()"
   ]
  }
 ],
 "metadata": {
  "kernelspec": {
   "display_name": "Python 3 (ipykernel)",
   "language": "python",
   "name": "python3"
  },
  "language_info": {
   "codemirror_mode": {
    "name": "ipython",
    "version": 3
   },
   "file_extension": ".py",
   "mimetype": "text/x-python",
   "name": "python",
   "nbconvert_exporter": "python",
   "pygments_lexer": "ipython3",
   "version": "3.10.9"
  }
 },
 "nbformat": 4,
 "nbformat_minor": 5
}
